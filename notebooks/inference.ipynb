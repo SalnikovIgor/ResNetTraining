{
 "cells": [
  {
   "cell_type": "code",
   "execution_count": null,
   "id": "3c841888",
   "metadata": {},
   "outputs": [],
   "source": [
    "import torch\n",
    "import torch.nn.functional as nnf\n",
    "from torch.autograd import Variable\n",
    "from torchvision import transforms\n",
    "from utils import Utils"
   ]
  },
  {
   "cell_type": "code",
   "execution_count": null,
   "id": "f75d27e9",
   "metadata": {
    "scrolled": true
   },
   "outputs": [],
   "source": [
    "def print_results(indexes: list, predictions: list, classes: list):\n",
    "    for index, value in enumerate(indexes[0]):\n",
    "        print(f'{round(predictions[0][index] * 100, 2)}% {classes[value][1]}')"
   ]
  },
  {
   "cell_type": "code",
   "execution_count": null,
   "id": "949e881a",
   "metadata": {},
   "outputs": [],
   "source": [
    "classes_path = '../models/Labels.json'\n",
    "model_path = '../models/resnet_18_Adam.pt'\n",
    "img_path = '../Без названия.jpg'"
   ]
  },
  {
   "cell_type": "code",
   "execution_count": null,
   "id": "19d14daf",
   "metadata": {},
   "outputs": [],
   "source": [
    "classes = Utils.import_json(classes_path)\n",
    "classes = [(key, classes[key]) for key in sorted(classes)]"
   ]
  },
  {
   "cell_type": "code",
   "execution_count": null,
   "id": "d92b4b18",
   "metadata": {},
   "outputs": [],
   "source": [
    "model = torch.load(model_path, map_location=torch.device('cpu'))\n",
    "model.eval()"
   ]
  },
  {
   "cell_type": "code",
   "execution_count": null,
   "id": "251399b2",
   "metadata": {},
   "outputs": [],
   "source": [
    "normalize = transforms.Normalize(\n",
    "    mean=[0.485, 0.456, 0.406],\n",
    "    std=[0.229, 0.224, 0.225]\n",
    ")\n",
    "preprocess = transforms.Compose([\n",
    "    transforms.Resize(256),\n",
    "    transforms.CenterCrop(224),\n",
    "    transforms.ToTensor(),\n",
    "    normalize\n",
    "])"
   ]
  },
  {
   "cell_type": "code",
   "execution_count": null,
   "id": "df92cb3b",
   "metadata": {
    "scrolled": true
   },
   "outputs": [],
   "source": [
    "img = Utils.import_image(img_path)\n",
    "img_tensor = preprocess(img).float()\n",
    "img_tensor = img_tensor.unsqueeze_(0)\n",
    "img_tensor = Variable(img_tensor)"
   ]
  },
  {
   "cell_type": "code",
   "execution_count": null,
   "id": "9a1bc7e3",
   "metadata": {},
   "outputs": [],
   "source": [
    "with torch.inference_mode():\n",
    "    output = model(img_tensor)\n",
    "\n",
    "prob = nnf.softmax(output, dim=1)\n",
    "predictions, indexes = prob.topk(5, dim=1)\n"
   ]
  },
  {
   "cell_type": "code",
   "execution_count": null,
   "id": "1125c99d",
   "metadata": {},
   "outputs": [],
   "source": [
    "print_results(indexes=indexes.tolist(), predictions=predictions.tolist(), classes=classes)"
   ]
  },
  {
   "cell_type": "code",
   "execution_count": null,
   "id": "42b9f54a",
   "metadata": {},
   "outputs": [],
   "source": []
  }
 ],
 "metadata": {
  "kernelspec": {
   "display_name": "Python 3",
   "language": "python",
   "name": "python3"
  },
  "language_info": {
   "codemirror_mode": {
    "name": "ipython",
    "version": 3
   },
   "file_extension": ".py",
   "mimetype": "text/x-python",
   "name": "python",
   "nbconvert_exporter": "python",
   "pygments_lexer": "ipython3",
   "version": "3.11.0 (main, Oct 24 2022, 18:26:48) [MSC v.1933 64 bit (AMD64)]"
  },
  "vscode": {
   "interpreter": {
    "hash": "1682e5d06a6d97c1b1cf6bb4ae6cf16223e994936ddb1d53664597d7d46101fa"
   }
  }
 },
 "nbformat": 4,
 "nbformat_minor": 5
}
